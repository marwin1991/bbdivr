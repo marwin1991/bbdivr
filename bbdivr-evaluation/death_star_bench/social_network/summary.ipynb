{
 "cells": [
  {
   "cell_type": "code",
   "execution_count": 1,
   "metadata": {},
   "outputs": [],
   "source": [
    "date = \"-15-11-2020\"\n",
    "dirs = [\"0-months-old\",\"3-months-old\",\"6-months-old\",\"12-months-old\"]\n",
    "fileName = \"/images-summary.csv\""
   ]
  },
  {
   "cell_type": "code",
   "execution_count": 4,
   "metadata": {},
   "outputs": [
    {
     "name": "stdout",
     "output_type": "stream",
     "text": [
      "               HIGH  MEDIUM    LOW  NEGLIGIBLE  UNKNOWN\n",
      "0-months-old    0.0    11.0  293.0       810.0    234.0\n",
      "3-months-old    0.0    28.0  537.0      1049.0    275.0\n",
      "6-months-old    0.0    30.0  565.0      1062.0    279.0\n",
      "12-months-old   0.0    32.0  590.0      1080.0    283.0\n"
     ]
    },
    {
     "name": "stderr",
     "output_type": "stream",
     "text": [
      "c:\\users\\piotr\\appdata\\local\\programs\\python\\python38-32\\lib\\site-packages\\pandas\\plotting\\_matplotlib\\core.py:1192: UserWarning: FixedFormatter should only be used together with FixedLocator\n",
      "  ax.set_xticklabels(xticklabels)\n"
     ]
    },
    {
     "data": {
      "image/png": "[encoded data removed]",
      "text/plain": [
       "<Figure size 432x288 with 1 Axes>"
      ]
     },
     "metadata": {
      "needs_background": "light"
     },
     "output_type": "display_data"
    }
   ],
   "source": [
    "import pandas as pd\n",
    "import matplotlib.pyplot as plt\n",
    "from textwrap import wrap\n",
    "\n",
    "types = [\"CRITICAL\",\"HIGH\",\"MEDIUM\",\"LOW\",\"NEGLIGIBLE\",\"UNKNOWN\"]\n",
    "\n",
    "result = {}\n",
    "for dir in dirs:\n",
    "    df = pd.read_csv(dir + date + fileName, skiprows=1)\n",
    "    df = pd.DataFrame(df.values);\n",
    "    df = df.drop(df.columns[0], axis=1)\n",
    "    d = df.sum().to_dict()\n",
    "    \n",
    "    output = {}\n",
    "    for i in range(1,6):\n",
    "        output[types[i]] = d[i]\n",
    "    \n",
    "    result[dir] = output\n",
    "\n",
    "df = pd.DataFrame(result)\n",
    "print(df.T)\n",
    "df.T[[\"HIGH\",\"MEDIUM\"]].plot(kind = 'line')\n",
    "plt.savefig(\"summary2.png\", bbox_inches=\"tight\", pad_inches=0.5)"
   ]
  }
 ],
 "metadata": {
  "kernelspec": {
   "display_name": "Python 3",
   "language": "python",
   "name": "python3"
  },
  "language_info": {
   "codemirror_mode": {
    "name": "ipython",
    "version": 3
   },
   "file_extension": ".py",
   "mimetype": "text/x-python",
   "name": "python",
   "nbconvert_exporter": "python",
   "pygments_lexer": "ipython3",
   "version": "3.8.3"
  }
 },
 "nbformat": 4,
 "nbformat_minor": 4
}
