{
 "cells": [
  {
   "cell_type": "code",
   "execution_count": 1,
   "metadata": {},
   "outputs": [
    {
     "name": "stdout",
     "output_type": "stream",
     "text": [
      "                        CRITICAL  HIGH  MEDIUM  LOW  NEGLIGIBLE  UNKNOWN\n",
      "debian-stable-20200414         0     1       6   20          39       26\n",
      "debian-stable-20190910         0     2      11   10          37       19\n",
      "debian-stable-20190122         0     9      11   25          34       40\n",
      "debian-stable-20180213         0    17      20   29          36       57\n",
      "['debian-stabl\\ne-20200414', 'debian-stabl\\ne-20190910', 'debian-stabl\\ne-20190122', 'debian-stabl\\ne-20180213']\n"
     ]
    }
   ],
   "source": [
    "import pandas as pd\n",
    "import matplotlib.pyplot as plt\n",
    "from textwrap import wrap\n",
    "\n",
    "\n",
    "imageName = \"debian-stable\"\n",
    "versions = [\"20200414\",\"20190910\",\"20190122\",\"20180213\"]\n",
    "\n",
    "result = {}\n",
    "for ver in versions:\n",
    "    df = pd.read_csv(imageName + \"-\" + ver + \"-results.csv\")\n",
    "    df = df[['sev_name', 'sum']]\n",
    "    df = df.set_index(\"sev_name\")\n",
    "    result[\"debian-stable\" + \"-\" +ver] = df.to_dict().get(\"sum\")\n",
    "\n",
    "sum_df  = pd.DataFrame(result);\n",
    "\n",
    "print(sum_df.T)\n",
    "labels = list(sum_df.T.index)\n",
    "labels = ['\\n'.join(wrap(l, 12)) for l in labels]\n",
    "print(labels)\n",
    "ax = sum_df.T.plot(kind='bar', figsize=(14,4))\n",
    "ax.set_xlabel(\"image name\")\n",
    "ax.set_ylabel(\"number of vulnerabilities\")\n",
    "plt.xticks(range(0,len(labels)), labels, rotation='horizontal')\n",
    "sum_df.T.to_csv(imageName + \"-bar-summary.csv\")\n",
    "plt.savefig(imageName +\"-bar-summary.png\", bbox_inches=\"tight\", pad_inches=0.5)"
   ]
  }
 ],
 "metadata": {
  "kernelspec": {
   "display_name": "Python 3",
   "language": "python",
   "name": "python3"
  },
  "language_info": {
   "codemirror_mode": {
    "name": "ipython",
    "version": 3
   },
   "file_extension": ".py",
   "mimetype": "text/x-python",
   "name": "python",
   "nbconvert_exporter": "python",
   "pygments_lexer": "ipython3",
   "version": "3.8.3"
  }
 },
 "nbformat": 4,
 "nbformat_minor": 4
}
