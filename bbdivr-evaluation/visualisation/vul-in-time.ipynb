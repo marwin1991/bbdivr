{
 "cells": [
  {
   "cell_type": "code",
   "execution_count": 1,
   "metadata": {},
   "outputs": [],
   "source": [
    "imageName = \"postgres\"\n",
    "imageVersions = [\"9.6.20\", \"9.6.17\",\"9.6.18\", \"9.6.17\", \"9.6.16\", \"9.6.15\", \"9.6.14\",\"9.6.13\", \"9.6.12\",\"9.6.11\", \"9.6.10\"]"
   ]
  },
  {
   "cell_type": "code",
   "execution_count": 5,
   "metadata": {},
   "outputs": [
    {
     "name": "stdout",
     "output_type": "stream",
     "text": [
      "['postgres:9.6.20\\n2020-11-13', 'postgres:9.6.17\\n2020-05-14', 'postgres:9.6.18\\n2020-08-05', 'postgres:9.6.16\\n2020-02-02', 'postgres:9.6.15\\n2019-10-17', 'postgres:9.6.14\\n2019-07-18', 'postgres:9.6.13\\n2019-06-11', 'postgres:9.6.12\\n2019-05-08', 'postgres:9.6.11\\n2019-02-07', 'postgres:9.6.10\\n2018-10-16']\n"
     ]
    },
    {
     "name": "stderr",
     "output_type": "stream",
     "text": [
      "c:\\users\\piotr\\appdata\\local\\programs\\python\\python38-32\\lib\\site-packages\\pandas\\plotting\\_matplotlib\\core.py:1192: UserWarning: FixedFormatter should only be used together with FixedLocator\n",
      "  ax.set_xticklabels(xticklabels)\n"
     ]
    }
   ],
   "source": [
    "import requests\n",
    "import pandas as pd\n",
    "import matplotlib.pyplot as plt\n",
    "from textwrap import wrap\n",
    "\n",
    "types = [\"CRITICAL\",\"HIGH\",\"MEDIUM\",\"LOW\",\"NEGLIGIBLE\",\"UNKNOWN\"]\n",
    "\n",
    "result = {}\n",
    "for ver in imageVersions:\n",
    "    response = requests.get(f\"https://hub.docker.com/v2/repositories/library/{imageName}/tags/{ver}/\")\n",
    "    date = response.json().get(\"tag_last_pushed\")[0:10]\n",
    "    #date = ver\n",
    "    \n",
    "    df = pd.read_csv(\"../docker_hub/\" + imageName + \"-\" + ver + \"-results.csv\" )\n",
    "\n",
    "    df = df.set_index(\"sev_name\")\n",
    "    df = df.drop(df.columns[0], axis=1)\n",
    "    df = df.drop(df.columns[0], axis=1)\n",
    "    \n",
    "    result[imageName+\":\"+ver + \" \" + date] = df.T.to_dict(orient=\"index\").get(\"sum\")\n",
    "\n",
    "sum_df = pd.DataFrame(result)\n",
    "# print(df)\n",
    "# print(df.T)\n",
    "# df.T[[\"CRITICAL\",\"HIGH\",\"MEDIUM\",\"LOW\"]].plot(kind = 'line')\n",
    "# plt.savefig(\"testing.png\", bbox_inches=\"tight\", pad_inches=0.5)\n",
    "\n",
    "\n",
    "labels = list(sum_df.T.index)\n",
    "labels = ['\\n'.join(wrap(l, 15)) for l in labels]\n",
    "print(labels)\n",
    "#ax = sum_df.T.plot(kind='bar', logy=True, figsize=(14,4))\n",
    "ax = sum_df.T[[\"CRITICAL\",\"HIGH\",\"MEDIUM\",\"LOW\"]].plot(kind = 'line',figsize=(14,4))\n",
    "ax.set_xlabel(\"image name\\ncreation date\")\n",
    "ax.set_ylabel(\"number of vulnerabilities\")\n",
    "plt.xticks(range(0,len(labels)), labels, rotation='horizontal')\n",
    "sum_df.T.to_csv(f\"../docker_hub/{imageName}-line-summary.csv\")\n",
    "plt.savefig(f\"../docker_hub/{imageName}-line-summary.png\", bbox_inches=\"tight\", pad_inches=0.2)"
   ]
  }
 ],
 "metadata": {
  "kernelspec": {
   "display_name": "Python 3",
   "language": "python",
   "name": "python3"
  },
  "language_info": {
   "codemirror_mode": {
    "name": "ipython",
    "version": 3
   },
   "file_extension": ".py",
   "mimetype": "text/x-python",
   "name": "python",
   "nbconvert_exporter": "python",
   "pygments_lexer": "ipython3",
   "version": "3.8.3"
  }
 },
 "nbformat": 4,
 "nbformat_minor": 4
}
